{
 "cells": [
  {
   "cell_type": "markdown",
   "metadata": {},
   "source": [
    "### Elastic search request api"
   ]
  },
  {
   "cell_type": "code",
   "execution_count": 7,
   "metadata": {},
   "outputs": [],
   "source": [
    "import json\n",
    "import logging\n",
    "\n",
    "import requests\n",
    "\n",
    "\n",
    "def elasticsearch_curl(uri=\"http://localhost:9200/\", json_body=\"\", verb=\"get\"):\n",
    "    # pass header option for content type if request has a\n",
    "    # body to avoid Content-Type error in Elasticsearch v6.0\n",
    "    headers = {\n",
    "        \"Content-Type\": \"application/json\",\n",
    "    }\n",
    "    resp = None\n",
    "    try:\n",
    "        # make HTTP verb parameter case-insensitive by converting to lower()\n",
    "        if verb.lower() == \"get\":\n",
    "            resp = requests.get(uri, headers=headers, data=json_body)\n",
    "        elif verb.lower() == \"post\":\n",
    "            resp = requests.post(uri, headers=headers, data=json_body)\n",
    "        elif verb.lower() == \"put\":\n",
    "            resp = requests.put(uri, headers=headers, data=json_body)\n",
    "        elif verb.lower() == \"del\":\n",
    "            resp = requests.delete(uri, headers=headers, data=json_body)\n",
    "            return None\n",
    "\n",
    "        # read the text object string\n",
    "        try:\n",
    "            resp_text = json.loads(resp.text)\n",
    "        except:\n",
    "            resp_text = resp.text\n",
    "\n",
    "        # catch exceptions and print errors to terminal\n",
    "    except Exception as error:\n",
    "        logging.warning(\"resp:\", resp)\n",
    "        logging.warning(\"uri:\", uri)\n",
    "        logging.warning(\"\\nelasticsearch_curl() error:\", error)\n",
    "        resp_text = None\n",
    "\n",
    "    # return the Python dict of the request\n",
    "    #     print (\"resp_text:\", resp_text)\n",
    "    return resp_text\n",
    "\n",
    "\n",
    "def del_all_scroll():\n",
    "    response = elasticsearch_curl(\n",
    "        uri=\"http://localhost:9200/_search/scroll/_all\", verb=\"del\"\n",
    "    )\n",
    "    return response\n",
    "\n",
    "\n",
    "def del_pit(pit):\n",
    "    json_data = json.dumps({\"id\": pit})\n",
    "    response = elasticsearch_curl(\n",
    "        uri=\"http://localhost:9200/_pit\", json_body=json_data, verb=\"del\"\n",
    "    )\n",
    "    return response\n",
    "\n",
    "\n",
    "response = elasticsearch_curl(\"http://localhost:9200/wikipedia_sentences/_count\")\n",
    "# print(response)"
   ]
  },
  {
   "cell_type": "markdown",
   "metadata": {},
   "source": [
    "### Post a sentence to the index"
   ]
  },
  {
   "cell_type": "code",
   "execution_count": 8,
   "metadata": {},
   "outputs": [],
   "source": [
    "def post_sentence(dict_object):\n",
    "    # Post one example to news_event_frame index\n",
    "    if dict_object:\n",
    "        json_object = json.dumps(dict_object)\n",
    "    else:\n",
    "        return None\n",
    "    response = elasticsearch_curl(\n",
    "        \"http://localhost:9200/wikipedia_sentences/_doc\",\n",
    "        verb=\"post\",\n",
    "        json_body=json_object,\n",
    "    )\n",
    "    return response\n",
    "\n",
    "\n",
    "def query_sentence(phrase, size=20):\n",
    "    result = []\n",
    "    for should_phrase in [\n",
    "        \"is a\",\n",
    "        \"is not a\",\n",
    "        \"have a\",\n",
    "        \"does not have a\",\n",
    "        \"is capable of\",\n",
    "        \"is not capable of\",\n",
    "    ]:\n",
    "        dict_object = {\n",
    "            \"query\": {\n",
    "                \"bool\": {\n",
    "                    \"must\": [{\"match_phrase\": {\"doc\": phrase}}],\n",
    "                    \"should\": [{\"match_phrase\": {\"doc\": should_phrase}}],\n",
    "                },\n",
    "            },\n",
    "            \"size\": size,\n",
    "        }\n",
    "\n",
    "        json_object = json.dumps(dict_object)\n",
    "        response = elasticsearch_curl(\n",
    "            \"http://localhost:9200/wikipedia_sentences/_search\",\n",
    "            verb=\"post\",\n",
    "            json_body=json_object,\n",
    "        )\n",
    "        for item in response[\"hits\"][\"hits\"]:\n",
    "            score = item[\"_score\"]\n",
    "            doc = item[\"_source\"][\"doc\"]\n",
    "            result.append((doc, score))\n",
    "    return result\n",
    "\n",
    "\n",
    "def query_sentence_match(phrase):\n",
    "    dict_object = {\"query\": {\"match\": {\"doc\": phrase}}, \"size\": 1}\n",
    "    json_object = json.dumps(dict_object)\n",
    "    response = elasticsearch_curl(\n",
    "        \"http://localhost:9200/wikipedia_sentences/_search\",\n",
    "        verb=\"post\",\n",
    "        json_body=json_object,\n",
    "    )\n",
    "    result = []\n",
    "    for item in response[\"hits\"][\"hits\"]:\n",
    "        score = item[\"_score\"]\n",
    "        doc = item[\"_source\"][\"doc\"]\n",
    "        result.append((doc, score))\n",
    "    return result\n",
    "\n",
    "\n",
    "def bulk_post(bulk_dict_data, index_name=\"wikipedia_sentences\"):\n",
    "    if len(bulk_dict_data) < 1:\n",
    "        return None\n",
    "    # Post multiple examples to an index\n",
    "    # A list of data dict\n",
    "    meta_json = json.dumps({\"index\": {\"_index\": index_name, \"_type\": \"_doc\"}})\n",
    "    data_to_post = (\n",
    "        \"\\n\".join(meta_json + \"\\n\" + json.dumps(d) for d in bulk_dict_data) + \"\\n\"\n",
    "    )\n",
    "    response = elasticsearch_curl(\n",
    "        f\"http://localhost:9200/_bulk\", verb=\"post\", json_body=data_to_post,\n",
    "    )\n",
    "    return response\n",
    "\n",
    "\n",
    "# phrase = \"entity\"\n",
    "# test_data_dict = [{\"query\": {\"match_phrase\": {\"doc\": phrase}}, \"size\": 1} for i in range(5)]\n",
    "# response = post_sentence(test_data_dict)\n",
    "# # print(response)\n",
    "# response = bulk_post(test_data_dict)\n",
    "# print(response)"
   ]
  },
  {
   "cell_type": "markdown",
   "metadata": {},
   "source": [
    "### Insert sentences into elastic index"
   ]
  },
  {
   "cell_type": "code",
   "execution_count": 9,
   "metadata": {},
   "outputs": [
    {
     "name": "stdout",
     "output_type": "stream",
     "text": [
      "4124\n",
      "4438\n",
      "4851\n"
     ]
    }
   ],
   "source": [
    "data = []\n",
    "jsonfilename = \"../data/WikiData/mask-filling/wd_train_50.txt\"\n",
    "with open(jsonfilename) as f:\n",
    "    input_lines = f.readlines()\n",
    "    for line in input_lines:\n",
    "        data.append(line)\n",
    "    print(len(data))\n",
    "jsonfilename = \"../data/WikiData/mask-filling/wd_test_50.txt\"\n",
    "with open(jsonfilename) as f:\n",
    "    input_lines = f.readlines()\n",
    "    for line in input_lines:\n",
    "        data.append(line)\n",
    "    print(len(data))\n",
    "jsonfilename = \"../data/WikiData/mask-filling/wd_dev_50.txt\"\n",
    "with open(jsonfilename) as f:\n",
    "    input_lines = f.readlines()\n",
    "    for line in input_lines:\n",
    "        data.append(line)\n",
    "    print(len(data))"
   ]
  },
  {
   "cell_type": "code",
   "execution_count": null,
   "metadata": {
    "scrolled": true
   },
   "outputs": [
    {
     "data": {
      "application/vnd.jupyter.widget-view+json": {
       "model_id": "382bf0379bbc49f48692e04f59f10e57",
       "version_major": 2,
       "version_minor": 0
      },
      "text/plain": [
       "HBox(children=(FloatProgress(value=0.0, max=4851.0), HTML(value='')))"
      ]
     },
     "metadata": {},
     "output_type": "display_data"
    },
    {
     "name": "stdout",
     "output_type": "stream",
     "text": [
      "\n"
     ]
    },
    {
     "data": {
      "application/vnd.jupyter.widget-view+json": {
       "model_id": "311a80f8f72d416daf3ddafc202e963c",
       "version_major": 2,
       "version_minor": 0
      },
      "text/plain": [
       "HBox(children=(FloatProgress(value=0.0, max=706.0), HTML(value='')))"
      ]
     },
     "metadata": {},
     "output_type": "display_data"
    },
    {
     "data": {
      "application/vnd.jupyter.widget-view+json": {
       "model_id": "f1af33c0cf4a4311b780c1bd7594ddda",
       "version_major": 2,
       "version_minor": 0
      },
      "text/plain": [
       "HBox(children=(FloatProgress(value=0.0, max=31.0), HTML(value='')))"
      ]
     },
     "metadata": {},
     "output_type": "display_data"
    },
    {
     "name": "stdout",
     "output_type": "stream",
     "text": [
      "\n",
      "uc\n",
      "[200, 100, 57.358994, 100, 100, 100, 100, 100, 100, 100, 40.899837, 47.899254, 65.614426, 100, 100, 59.821938, 200, 100, 41.77512, 100, 100, 66.98061, 100, 57.358994, 100, 100, 100, 100, 100, 100, 200]\n"
     ]
    },
    {
     "data": {
      "application/vnd.jupyter.widget-view+json": {
       "model_id": "84670d45db3243c0837d03806f67c024",
       "version_major": 2,
       "version_minor": 0
      },
      "text/plain": [
       "HBox(children=(FloatProgress(value=0.0, max=57.0), HTML(value='')))"
      ]
     },
     "metadata": {},
     "output_type": "display_data"
    },
    {
     "name": "stdout",
     "output_type": "stream",
     "text": [
      "\n",
      "gymnasium\n",
      "[100, 100, 100, 100, 100, 100, 100, 100, 100, 100, 100, 100, 100, 100, 100, 38.448093, 100, 57.25715, 100, 100, 100, 100, 100, 100, 100, 100, 100, 100, 100, 100, 89.11842, 100, 100, 100, 100, 100, 100, 200, 100, 100, 100, 54.5495, 100, 100, 54.5495, 100, 100, 100, 57.25715, 100, 100, 100, 100, 100, 100, 100, 100]\n"
     ]
    },
    {
     "data": {
      "application/vnd.jupyter.widget-view+json": {
       "model_id": "96dbf566cb9648c7aedb3f60b8ebe9e8",
       "version_major": 2,
       "version_minor": 0
      },
      "text/plain": [
       "HBox(children=(FloatProgress(value=0.0, max=86.0), HTML(value='')))"
      ]
     },
     "metadata": {},
     "output_type": "display_data"
    },
    {
     "name": "stdout",
     "output_type": "stream",
     "text": [
      "\n",
      "mathematical\n",
      "[100, 100, 108.50187, 100, 113.84152, 52.704918, 100, 107.66448, 100, 100, 48.37364, 66.1816, 30.291853, 100, 62.595108, 100, 55.551216, 68.043915, 100, 100, 79.89993, 100, 82.105965, 100, 54.084682, 61.32752, 100, 44.916874, 100, 46.625267, 100, 100, 100, 100, 89.08565, 62.101326, 100, 100, 100, 51.106262, 100, 100, 100, 62.6825, 100, 48.788563, 100, 100, 100, 100, 68.51367, 100, 100, 100, 100, 71.73747, 100, 100, 100, 100, 100, 21.860834, 64.29395, 100, 100, 70.95816, 100, 100, 60.08189, 100, 100, 49.675346, 100, 49.675346, 100, 73.74263, 25.536543, 100, 100, 36.63915, 53.156094, 100, 104.32438, 100, 100, 100]\n"
     ]
    },
    {
     "data": {
      "application/vnd.jupyter.widget-view+json": {
       "model_id": "5f5e309c39a34b9d8e510698f80fc0aa",
       "version_major": 2,
       "version_minor": 0
      },
      "text/plain": [
       "HBox(children=(FloatProgress(value=0.0, max=110.0), HTML(value='')))"
      ]
     },
     "metadata": {},
     "output_type": "display_data"
    },
    {
     "name": "stdout",
     "output_type": "stream",
     "text": [
      "\n",
      "days\n",
      "[58.56957, 100, 35.31755, 54.25983, 24.524075, 100, 25.900764, 28.595562, 100, 100, 100, 100, 100, 81.13696, 100, 55.869713, 100, 75.66709, 100, 100, 100, 100, 100, 100, 100, 100, 69.620544, 32.56594, 42.67208, 100, 62.498466, 82.98729, 100, 65.488045, 42.47584, 45.343254, 37.91435, 100, 40.83455, 100, 100, 100, 100, 100, 100, 100, 78.78427, 100, 100, 65.561646, 100, 60.394157, 100, 100, 73.47807, 100, 100, 100, 100, 100, 100, 100, 100, 100, 100, 100, 32.979664, 100, 100, 31.913574, 134.8746, 100, 100, 100, 63.120903, 100.81957, 100, 100, 48.937088, 83.24594, 32.41822, 55.45412, 50.46963, 100, 100, 61.25139, 100, 100, 100, 44.57302, 63.280766, 66.6198, 100, 100, 100, 100, 100, 78.335266, 100, 100, 100, 100, 100, 100, 100, 43.415913, 82.03022, 31.19347, 100, 100]\n"
     ]
    },
    {
     "data": {
      "application/vnd.jupyter.widget-view+json": {
       "model_id": "2838640d1c4542a1a4c6a71d14fc0c5a",
       "version_major": 2,
       "version_minor": 0
      },
      "text/plain": [
       "HBox(children=(FloatProgress(value=0.0, max=73.0), HTML(value='')))"
      ]
     },
     "metadata": {},
     "output_type": "display_data"
    },
    {
     "name": "stdout",
     "output_type": "stream",
     "text": [
      "\n",
      "nest\n",
      "[100, 100, 100, 41.516632, 100, 26.27335, 100, 100, 100, 83.95829, 100, 87.15492, 84.36905, 100, 100, 63.175404, 46.3727, 28.385782, 100, 21.5762, 100, 100, 100, 68.65329, 100, 81.53687, 100, 100, 100, 56.406254, 38.97204, 26.539463, 100, 45.811123, 73.49348, 28.942444, 200, 100, 100, 109.11208, 100, 100, 60.31894, 100, 59.990257, 66.59789, 54.02215, 100, 101.78922, 100, 45.432133, 59.93465, 38.629753, 100, 100, 55.139145, 122.93384, 100, 83.06426, 100, 43.523823, 100, 100, 50.627716, 100, 100, 100, 99.31623, 100, 37.670166, 100, 100, 100]\n"
     ]
    },
    {
     "data": {
      "application/vnd.jupyter.widget-view+json": {
       "model_id": "9217d7eb46ca44e59cb923e23e378b9b",
       "version_major": 2,
       "version_minor": 0
      },
      "text/plain": [
       "HBox(children=(FloatProgress(value=0.0, max=65.0), HTML(value='')))"
      ]
     },
     "metadata": {},
     "output_type": "display_data"
    },
    {
     "name": "stdout",
     "output_type": "stream",
     "text": [
      "\n",
      "ali\n",
      "[100, 56.23985, 56.20364, 100, 100, 100, 60.685204, 100, 100, 100, 50.15868, 50.986416, 56.94111, 56.563522, 100, 37.01421, 100, 100, 100, 100, 100, 66.12709, 100, 100, 100, 200, 77.89262, 100, 100, 100, 100, 120.34441, 85.296074, 100, 100, 100, 100, 78.28835, 100, 100, 53.370678, 100, 200, 100, 100, 100, 100, 100, 100, 48.132366, 100, 96.610435, 100, 100, 100, 42.85795, 100, 100, 100, 60.580723, 100, 100, 25.315002, 100, 100]\n"
     ]
    },
    {
     "data": {
      "application/vnd.jupyter.widget-view+json": {
       "model_id": "20a35b3dcffb4867a4b3d9cdd8ef3ded",
       "version_major": 2,
       "version_minor": 0
      },
      "text/plain": [
       "HBox(children=(FloatProgress(value=0.0, max=68.0), HTML(value='')))"
      ]
     },
     "metadata": {},
     "output_type": "display_data"
    },
    {
     "name": "stdout",
     "output_type": "stream",
     "text": [
      "\n",
      "google\n",
      "[100, 100, 76.243416, 100, 100, 100, 100, 100, 100, 100, 100, 116.471886, 100, 100, 100, 100, 100, 100, 64.111694, 100, 100, 83.60434, 122.77535, 100, 100, 73.88432, 100, 100, 100, 100, 136.3017, 100, 100, 79.20551, 74.73652, 50.168476, 100, 100, 52.837276, 74.246796, 100, 100, 100, 66.07609, 100, 100, 92.585396, 100, 100, 66.73795, 100, 100, 47.051365, 100, 85.23278, 73.112526, 100, 100, 100, 100, 100, 100, 100, 125.09341, 48.92394, 100, 68.55482, 100]\n"
     ]
    },
    {
     "data": {
      "application/vnd.jupyter.widget-view+json": {
       "model_id": "b08b7b09f4394b8584eac72ac4ac0df3",
       "version_major": 2,
       "version_minor": 0
      },
      "text/plain": [
       "HBox(children=(FloatProgress(value=0.0, max=40.0), HTML(value='')))"
      ]
     },
     "metadata": {},
     "output_type": "display_data"
    },
    {
     "name": "stdout",
     "output_type": "stream",
     "text": [
      "\n",
      "palaces\n",
      "[100, 100, 200, 100, 200, 37.351433, 100, 46.831036, 100, 100, 100, 100, 38.3732, 200, 78.31159, 200, 100, 23.628101, 52.211, 100, 100, 58.314514, 100, 100, 200, 57.01868, 103.19612, 100, 46.5107, 100, 100, 38.09427, 70.89281, 51.02264, 200, 200, 100, 100, 100, 46.968754]\n"
     ]
    },
    {
     "data": {
      "application/vnd.jupyter.widget-view+json": {
       "model_id": "41e0a4831ab34b1da35841c891a85a54",
       "version_major": 2,
       "version_minor": 0
      },
      "text/plain": [
       "HBox(children=(FloatProgress(value=0.0, max=62.0), HTML(value='')))"
      ]
     },
     "metadata": {},
     "output_type": "display_data"
    },
    {
     "name": "stdout",
     "output_type": "stream",
     "text": [
      "\n",
      "museums\n",
      "[46.8237, 100, 31.444002, 56.878536, 81.191795, 100, 100, 100, 30.003878, 33.67836, 100, 100, 100, 30.064648, 100, 30.5154, 53.139694, 44.119602, 31.46045, 100, 100, 30.249163, 43.321976, 24.138826, 100, 100, 100, 48.50317, 100, 100, 60.286896, 38.048656, 100, 100, 46.62393, 49.863533, 34.463905, 100, 100, 98.38253, 100, 94.243935, 100, 85.36799, 100, 46.022076, 100, 100, 100, 100, 100, 100, 43.160885, 44.083656, 100, 100, 59.650425, 100, 100, 39.2573, 100, 25.519093]\n"
     ]
    },
    {
     "data": {
      "application/vnd.jupyter.widget-view+json": {
       "model_id": "81505c7aa9d14ff38497161793cbc720",
       "version_major": 2,
       "version_minor": 0
      },
      "text/plain": [
       "HBox(children=(FloatProgress(value=0.0, max=53.0), HTML(value='')))"
      ]
     },
     "metadata": {},
     "output_type": "display_data"
    },
    {
     "name": "stdout",
     "output_type": "stream",
     "text": [
      "\n",
      "mosques\n",
      "[100, 100, 100, 100, 100, 76.20507, 100, 26.188261, 100, 29.723818, 100, 100, 100, 100, 57.858887, 58.356697, 100, 100, 60.04093, 53.37375, 200, 27.024565, 100, 27.314497, 28.161234, 100, 37.83715, 100, 200, 100, 28.897276, 29.619898, 38.62193, 32.995712, 100, 100, 100, 27.225958, 32.535187, 26.951815, 200, 88.313774, 67.58986, 26.940926, 31.854511, 100, 27.782486, 100, 100, 29.520285, 30.963575, 100, 55.99937]\n"
     ]
    },
    {
     "data": {
      "application/vnd.jupyter.widget-view+json": {
       "model_id": "5be792f64ee14210978365339e860088",
       "version_major": 2,
       "version_minor": 0
      },
      "text/plain": [
       "HBox(children=(FloatProgress(value=0.0, max=34.0), HTML(value='')))"
      ]
     },
     "metadata": {},
     "output_type": "display_data"
    },
    {
     "name": "stdout",
     "output_type": "stream",
     "text": [
      "\n",
      "ek\n",
      "[100, 100, 100, 88.468, 200, 100, 100, 67.27725, 53.222065, 100, 100, 100, 73.17489, 72.86018, 69.443756, 93.992455, 100, 100, 100, 100, 100, 100, 100, 69.01781, 61.995087, 100, 100, 100, 76.056076, 100, 100, 100, 100, 128.14949]\n"
     ]
    },
    {
     "data": {
      "application/vnd.jupyter.widget-view+json": {
       "model_id": "75f3a399173449d18accd6659c949014",
       "version_major": 2,
       "version_minor": 0
      },
      "text/plain": [
       "HBox(children=(FloatProgress(value=0.0, max=107.0), HTML(value='')))"
      ]
     },
     "metadata": {},
     "output_type": "display_data"
    },
    {
     "name": "stdout",
     "output_type": "stream",
     "text": [
      "\n",
      "street\n",
      "[100, 100, 100, 100, 100, 60.583797, 100, 100, 100, 100, 100, 100, 100, 100, 100, 100, 55.791965, 41.942345, 100, 64.16228, 100, 99.33436, 100, 100, 100, 100, 100, 100, 100, 100, 100, 100, 100, 76.69603, 100, 100, 100, 100, 54.922688, 100, 49.640545, 100, 100, 56.3699, 124.07309, 100, 100, 100, 67.172356, 100, 46.763206, 41.44028, 100, 41.20164, 100, 50.464027, 34.257473, 112.827576, 100, 100, 100, 100, 100, 88.81118, 42.33989, 100, 100, 41.721313, 58.24052, 100, 100, 100, 100, 57.63301, 100, 100, 100, 100, 100, 100, 100, 100, 100, 50.903294, 100, 100, 100, 100, 36.452003, 100, 100, 71.061966, 100, 100, 100, 100, 83.93806, 100, 56.3699, 100, 100, 100, 100, 100, 66.5737, 100, 100]\n"
     ]
    },
    {
     "data": {
      "application/vnd.jupyter.widget-view+json": {
       "model_id": "8aec6a9fc33144c99a8d052b4cd9583c",
       "version_major": 2,
       "version_minor": 0
      },
      "text/plain": [
       "HBox(children=(FloatProgress(value=0.0, max=59.0), HTML(value='')))"
      ]
     },
     "metadata": {},
     "output_type": "display_data"
    },
    {
     "name": "stdout",
     "output_type": "stream",
     "text": [
      "\n",
      "freeway\n",
      "[100, 100, 100, 59.853825, 100, 100, 100, 100, 100, 100, 100, 100, 40.247192, 100, 100, 100, 100, 100, 26.9222, 100, 100, 100, 100, 67.28872, 66.888275, 100, 100, 100, 100, 100, 83.261955, 100, 100, 100, 100, 100, 78.659485, 100, 96.622215, 100, 100, 71.99592, 66.799484, 100, 63.635204, 100, 24.497517, 100, 100, 100, 70.07817, 100, 100, 100, 49.165165, 100, 100, 46.674828, 100]\n"
     ]
    },
    {
     "data": {
      "application/vnd.jupyter.widget-view+json": {
       "model_id": "c68552c450a744f0983b47371b18c674",
       "version_major": 2,
       "version_minor": 0
      },
      "text/plain": [
       "HBox(children=(FloatProgress(value=0.0, max=62.0), HTML(value='')))"
      ]
     },
     "metadata": {},
     "output_type": "display_data"
    },
    {
     "name": "stdout",
     "output_type": "stream",
     "text": [
      "\n",
      "orbital\n",
      "[200, 100, 60.55385, 100, 100, 200, 100, 100, 100, 100, 100, 43.928093, 34.73517, 100, 100, 100, 45.962074, 74.27097, 101.65354, 96.92519, 100, 100, 100, 38.6983, 44.74498, 100, 55.18387, 100, 100, 100, 100, 100, 39.42178, 100, 49.816505, 51.048805, 100, 100, 127.852646, 100, 100, 100, 100, 100, 64.34703, 200, 61.516907, 100, 100, 100, 100, 42.040367, 200, 100, 100, 36.85577, 78.66459, 100, 62.258316, 100, 41.96491, 100]\n"
     ]
    },
    {
     "data": {
      "application/vnd.jupyter.widget-view+json": {
       "model_id": "fd49785128e4456b9e214510cc77f086",
       "version_major": 2,
       "version_minor": 0
      },
      "text/plain": [
       "HBox(children=(FloatProgress(value=0.0, max=62.0), HTML(value='')))"
      ]
     },
     "metadata": {},
     "output_type": "display_data"
    },
    {
     "name": "stdout",
     "output_type": "stream",
     "text": [
      "\n",
      "highways\n",
      "[100, 100, 100, 63.29042, 100, 31.655645, 100, 100, 100, 100, 100, 100, 100, 55.726845, 100, 100, 100, 100, 100, 26.43754, 45.92136, 100, 46.070915, 47.02238, 42.507767, 100, 26.315243, 100, 100, 100, 40.00044, 44.360897, 48.888725, 100, 100, 36.035927, 100, 88.56392, 55.601192, 51.423946, 28.984623, 100, 41.201138, 100, 83.89229, 100, 100, 100, 41.990192, 100, 42.87456, 100, 100, 44.641804, 100, 89.33334, 100, 100, 100, 44.090485, 41.113655, 63.33937]\n"
     ]
    },
    {
     "data": {
      "application/vnd.jupyter.widget-view+json": {
       "model_id": "3f41efd061764bef97967c1db31a5ce2",
       "version_major": 2,
       "version_minor": 0
      },
      "text/plain": [
       "HBox(children=(FloatProgress(value=0.0, max=77.0), HTML(value='')))"
      ]
     },
     "metadata": {},
     "output_type": "display_data"
    },
    {
     "name": "stdout",
     "output_type": "stream",
     "text": [
      "\n",
      "theorem\n",
      "[100, 88.29884, 100, 100, 100, 100, 100, 100, 100, 48.92577, 100, 69.10511, 51.819237, 100, 100, 100, 100, 100, 100, 200, 100, 100, 83.31275, 100, 100, 100, 100, 100, 100, 100, 100, 100, 100, 100, 100, 100, 100, 100, 100, 100, 100, 52.14514, 100, 100, 100, 100, 100, 100, 100, 100, 100, 100, 100, 100, 89.499214, 100, 100, 36.72422, 100, 74.18657, 100, 100, 100, 100, 100, 100, 100, 100, 40.441895, 100, 100, 100, 100, 47.20585, 62.77384, 100, 100]\n"
     ]
    },
    {
     "data": {
      "application/vnd.jupyter.widget-view+json": {
       "model_id": "89086f64aced4f2fa7a5df4d02526ab7",
       "version_major": 2,
       "version_minor": 0
      },
      "text/plain": [
       "HBox(children=(FloatProgress(value=0.0, max=51.0), HTML(value='')))"
      ]
     },
     "metadata": {},
     "output_type": "display_data"
    }
   ],
   "source": [
    "import random\n",
    "import string\n",
    "from random import sample\n",
    "\n",
    "from tqdm.auto import tqdm\n",
    "\n",
    "count = lambda l1, l2: sum([1 for x in l1 if x in l2])\n",
    "\n",
    "\n",
    "def count_punc(s):\n",
    "    return count(s, set(string.punctuation))\n",
    "\n",
    "\n",
    "def count_keyword(s, key):\n",
    "    count = 0\n",
    "    s = s.replace(\".\", \"\").replace(\"\\n\", \"\")\n",
    "    for w in s.split(\" \"):\n",
    "        if w.lower() == key:\n",
    "            count += 1\n",
    "    return count\n",
    "\n",
    "\n",
    "source_obj_set = {}\n",
    "for item in tqdm(data):\n",
    "    ## Get source and objective\n",
    "    sens, obj = item.split(\"\\t\")\n",
    "    obj = obj.strip()\n",
    "    sen_li = sens.split(\". \")\n",
    "    for sen in sen_li[:-1]:\n",
    "        sen_ws = sen.split(\" \")\n",
    "        for w in sen_ws:\n",
    "            if sen.replace(w, \"<MASK>\") + \".\" == sen_li[-1]:\n",
    "                source = w\n",
    "                source_sent = sen\n",
    "                break\n",
    "    ## Get top 10 sentences from wikipedia by source\n",
    "    #         print(f\"source:{source}\\n target:{obj}\\n source_sent:{source_sent}\")\n",
    "    if source in source_obj_set:\n",
    "        if obj not in source_obj_set[source]:\n",
    "            source_obj_set[source].append(obj)\n",
    "    else:\n",
    "        source_obj_set[source] = []\n",
    "\n",
    "\n",
    "source_neural_sent_dic = {}\n",
    "outfilename = \"../data/WikiData/mask-filling/wd_neutral_sent.txt\"\n",
    "with open(outfilename, \"w\") as f:\n",
    "    out_sentence = (\n",
    "        \"SOURCE\" + \"\\t\" + \"NEUTRAL_SENTENCE\" + \"\\t\" + \"MAX_REPLACE_QUERY_SCORE\\n\"\n",
    "    )\n",
    "    f.write(out_sentence)\n",
    "    for source, obj_li in tqdm(source_obj_set.items()):\n",
    "        if len(obj_li) < 1:\n",
    "            continue\n",
    "        size = 20\n",
    "        top_query_sent = query_sentence(\n",
    "            source, size\n",
    "        )  # a list of sentences that contain the source word\n",
    "        top_query_sent = list(set(top_query_sent))\n",
    "        query_replace_score = []\n",
    "        ### For each of the 10 sentence, reformulate it by the object word, and then get the one with the lowest similary score in its top-1 result.\n",
    "        ### This means the word in that sentence is unlikely repalced by the object.\n",
    "        for sent in tqdm(top_query_sent):\n",
    "            if len(sent[0].replace(\"  \", \" \").split(\" \")) < 4:\n",
    "                query_replace_score.append(200)\n",
    "                continue\n",
    "\n",
    "            if count_punc(sent[0]) > 1:  ## Less than one source word\n",
    "                query_replace_score.append(100)\n",
    "                continue\n",
    "\n",
    "            all_obj_top_scores = []\n",
    "#             if len(obj_li) > 10:\n",
    "#                 obj_li = sample(obj_li, 10)\n",
    "            for obj in obj_li:\n",
    "                query_replace_sen = sent[0].replace(source, obj)\n",
    "                top_1_sen, top_1_score = query_sentence_match(query_replace_sen)[0]\n",
    "                all_obj_top_scores.append(top_1_score)\n",
    "            query_top_1_score = max(all_obj_top_scores)\n",
    "            query_replace_score.append(query_top_1_score)\n",
    "        print(source)\n",
    "        print(query_replace_score)\n",
    "        for best_sen, sore in zip(top_query_sent, query_replace_score):\n",
    "            if sore < 50:\n",
    "                out_sentence = (\n",
    "                    source + \"\\t\" + best_sen[0].strip() + \"\\t\" + str(sore) + \"\\n\"\n",
    "                )\n",
    "                f.write(out_sentence)\n",
    "                f.flush()"
   ]
  },
  {
   "cell_type": "code",
   "execution_count": 18,
   "metadata": {},
   "outputs": [
    {
     "data": {
      "text/plain": [
       "'gentian'"
      ]
     },
     "execution_count": 18,
     "metadata": {},
     "output_type": "execute_result"
    }
   ],
   "source": [
    "source"
   ]
  },
  {
   "cell_type": "code",
   "execution_count": 19,
   "metadata": {},
   "outputs": [
    {
     "data": {
      "application/vnd.jupyter.widget-view+json": {
       "model_id": "437b7370ba474475ad4a8f94a8ab4113",
       "version_major": 2,
       "version_minor": 0
      },
      "text/plain": [
       "HBox(children=(FloatProgress(value=0.0, max=326.0), HTML(value='')))"
      ]
     },
     "metadata": {},
     "output_type": "display_data"
    },
    {
     "name": "stdout",
     "output_type": "stream",
     "text": [
      "energy\n",
      "animal\n",
      "fish\n",
      "person\n",
      "element\n",
      "covering\n",
      "drug\n",
      "illumination\n",
      "appearance\n",
      "leader\n",
      "individual\n",
      "chemical\n",
      "mammal\n",
      "man\n",
      "wood\n",
      "insect\n",
      "bark\n",
      "quantity\n",
      "food\n",
      "weather\n",
      "fabric\n",
      "nourishment\n",
      "instrument\n",
      "platform\n",
      "vertebrate\n",
      "traveler\n",
      "game\n",
      "sport\n",
      "football\n",
      "location\n",
      "region\n",
      "trait\n",
      "material\n",
      "emotion\n",
      "building\n",
      "merchant\n",
      "vehicle\n",
      "quality\n",
      "science\n",
      "day\n",
      "delicacy\n",
      "surface\n",
      "servant\n",
      "disorder\n",
      "barrier\n",
      "disease\n",
      "room\n",
      "attendant\n",
      "period\n",
      "activity\n",
      "road\n",
      "clothing\n",
      "decoration\n",
      "paper\n",
      "meal\n",
      "reptile\n",
      "machine\n",
      "craft\n",
      "feeling\n",
      "ballroom\n",
      "house\n",
      "officer\n",
      "earth\n",
      "construction\n",
      "parent\n",
      "compound\n",
      "herb\n",
      "pain\n",
      "storm\n",
      "light\n",
      "church\n",
      "salamander\n",
      "commodity\n",
      "motor\n",
      "pigeon\n",
      "education\n",
      "lamp\n",
      "mineral\n",
      "vegetable\n",
      "cat\n",
      "joy\n",
      "art\n",
      "pup\n",
      "boat\n",
      "sound\n",
      "cloth\n",
      "bag\n",
      "dam\n",
      "book\n",
      "hair\n",
      "assistant\n",
      "garment\n",
      "formation\n",
      "gear\n",
      "precipitation\n",
      "shape\n",
      "cutlery\n",
      "radiation\n",
      "water\n",
      "metal\n",
      "tissue\n",
      "bread\n",
      "worker\n",
      "emperor\n",
      "job\n",
      "bottle\n",
      "corn\n",
      "coat\n",
      "biome\n",
      "bush\n",
      "medicine\n",
      "noise\n",
      "flask\n",
      "painting\n",
      "spacecraft\n",
      "restaurant\n",
      "table\n",
      "criminal\n",
      "official\n",
      "bone\n",
      "chicken\n",
      "shelter\n",
      "passenger\n",
      "wave\n",
      "blubber\n",
      "solid\n",
      "tube\n",
      "server\n",
      "ground\n",
      "dish\n",
      "season\n",
      "cloud\n",
      "belief\n",
      "engine\n",
      "artist\n",
      "interval\n",
      "liquid\n",
      "monster\n",
      "thief\n",
      "scientist\n",
      "side\n",
      "ice\n",
      "secretary\n",
      "bubble\n",
      "deer\n",
      "coast\n",
      "wine\n",
      "berry\n",
      "seed\n",
      "crime\n",
      "dog\n",
      "field\n",
      "player\n",
      "wind\n",
      "cereal\n",
      "woman\n",
      "stem\n",
      "cattle\n",
      "anger\n",
      "container\n",
      "tool\n",
      "salt\n",
      "butterfly\n",
      "cord\n",
      "lifeguard\n",
      "grass\n",
      "boundary\n",
      "grassland\n",
      "song\n",
      "temperature\n",
      "ship\n",
      "boa\n",
      "drink\n",
      "pasta\n",
      "jazz\n",
      "fowl\n",
      "daylight\n",
      "money\n",
      "shore\n",
      "equipment\n",
      "photographer\n",
      "waste\n",
      "length\n",
      "nut\n",
      "treatment\n",
      "tooth\n",
      "pullover\n",
      "fuel\n",
      "madam\n",
      "expert\n",
      "plaything\n",
      "conductor\n",
      "helping\n",
      "serpent\n",
      "sweater\n",
      "ape\n",
      "auto\n",
      "amphibian\n",
      "mill\n",
      "motorbike\n",
      "furniture\n",
      "alsatian\n",
      "clock\n",
      "particle\n",
      "flag\n",
      "nutriment\n",
      "lake\n",
      "care\n",
      "spaniel\n",
      "moth\n",
      "mother\n",
      "meat\n",
      "wasp\n",
      "priest\n",
      "machinery\n",
      "bottom\n",
      "aircraft\n",
      "fiber\n",
      "rider\n",
      "horse\n",
      "fence\n",
      "entertainment\n",
      "valley\n",
      "hotel\n",
      "bat\n",
      "aeroplane\n",
      "headman\n",
      "pleasure\n",
      "chair\n",
      "cleaner\n",
      "gap\n",
      "darkness\n",
      "satellite\n",
      "bed\n",
      "slop\n",
      "candy\n",
      "orchid\n",
      "shame\n",
      "district\n",
      "time\n",
      "rectangle\n",
      "illness\n",
      "highway\n",
      "holiday\n",
      "rattlesnake\n",
      "viper\n",
      "trawler\n",
      "mouse\n",
      "gun\n",
      "leisure\n",
      "cod\n",
      "bee\n",
      "robin\n",
      "pickle\n",
      "nose\n",
      "fear\n",
      "examination\n",
      "whale\n",
      "triangle\n",
      "trial\n",
      "barber\n",
      "delight\n",
      "raglan\n",
      "crystal\n",
      "elephant\n",
      "tower\n",
      "duck\n",
      "oil\n",
      "climber\n",
      "protection\n",
      "excitement\n",
      "stream\n",
      "worship\n",
      "glove\n",
      "dough\n",
      "crockery\n",
      "backwoodsman\n",
      "chimp\n",
      "soup\n",
      "president\n",
      "organelle\n",
      "burglar\n",
      "burrow\n",
      "hat\n",
      "attempt\n",
      "raincoat\n",
      "shade\n",
      "dandelion\n",
      "bear\n",
      "gull\n",
      "pouch\n",
      "courier\n",
      "flapjack\n",
      "newsagent\n",
      "cambric\n",
      "bricklayer\n",
      "dye\n",
      "pirate\n",
      "biosphere\n",
      "fog\n",
      "usage\n",
      "editor\n",
      "alligator\n",
      "anniversary\n",
      "soya\n",
      "destination\n",
      "foxhound\n",
      "guy\n",
      "lioness\n",
      "goat\n",
      "georgette\n",
      "coin\n",
      "bird\n",
      "plant\n",
      "fruit\n",
      "alcohol\n",
      "flower\n",
      "music\n",
      "tree\n",
      "plum\n",
      "pod\n",
      "drake\n",
      "polyphony\n",
      "escalator\n",
      "acorn\n",
      "gentian\n",
      "\n"
     ]
    }
   ],
   "source": [
    "for source, obj_li in tqdm(source_obj_set.items()):\n",
    "    print(source)"
   ]
  },
  {
   "cell_type": "code",
   "execution_count": 21,
   "metadata": {},
   "outputs": [
    {
     "data": {
      "text/plain": [
       "326"
      ]
     },
     "execution_count": 21,
     "metadata": {},
     "output_type": "execute_result"
    }
   ],
   "source": [
    "len(source_obj_set)"
   ]
  },
  {
   "cell_type": "code",
   "execution_count": null,
   "metadata": {},
   "outputs": [],
   "source": []
  }
 ],
 "metadata": {
  "kernelspec": {
   "display_name": "Python 3",
   "language": "python",
   "name": "python3"
  },
  "language_info": {
   "codemirror_mode": {
    "name": "ipython",
    "version": 3
   },
   "file_extension": ".py",
   "mimetype": "text/x-python",
   "name": "python",
   "nbconvert_exporter": "python",
   "pygments_lexer": "ipython3",
   "version": "3.8.5"
  }
 },
 "nbformat": 4,
 "nbformat_minor": 4
}
